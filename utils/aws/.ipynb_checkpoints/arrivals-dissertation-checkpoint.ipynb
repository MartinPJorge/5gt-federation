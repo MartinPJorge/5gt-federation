{
 "cells": [
  {
   "cell_type": "markdown",
   "metadata": {},
   "source": [
    "# Generate users arrivals\n",
    "\n",
    "Currently our paper work defines the arrivals of users as a function dependant on the price they pay $\\rho$\n",
    "\n",
    "$$rho = (1+P)p$$\n",
    "with $P\\in [0,1]$ being the marginal benefit, and $p\\in [m,M]$ the spot price."
   ]
  }
 ],
 "metadata": {
  "kernelspec": {
   "display_name": "Python 3",
   "language": "python",
   "name": "python3"
  },
  "language_info": {
   "codemirror_mode": {
    "name": "ipython",
    "version": 3
   },
   "file_extension": ".py",
   "mimetype": "text/x-python",
   "name": "python",
   "nbconvert_exporter": "python",
   "pygments_lexer": "ipython3",
   "version": "3.7.5"
  }
 },
 "nbformat": 4,
 "nbformat_minor": 2
}
